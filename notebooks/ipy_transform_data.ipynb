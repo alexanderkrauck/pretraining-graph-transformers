{
 "cells": [
  {
   "cell_type": "code",
   "execution_count": 1,
   "metadata": {},
   "outputs": [
    {
     "name": "stderr",
     "output_type": "stream",
     "text": [
      "/home/alexander/miniconda3/envs/pgt_hug/lib/python3.10/site-packages/tqdm/auto.py:21: TqdmWarning: IProgress not found. Please update jupyter and ipywidgets. See https://ipywidgets.readthedocs.io/en/stable/user_install.html\n",
      "  from .autonotebook import tqdm as notebook_tqdm\n"
     ]
    }
   ],
   "source": [
    "import os\n",
    "\n",
    "os.chdir(\"..\")\n",
    "\n",
    "from utils import data as data_utils\n",
    "import torch_geometric as pyg\n",
    "from utils import ZincWithRDKit\n",
    "from datasets import DatasetDict, load_from_disk, IterableDataset\n",
    "from os.path import join\n",
    "import subprocess\n",
    "from utils import graphormer_data_collator_improved as graphormer_collator_utils\n",
    "from tqdm import tqdm\n",
    "import numpy as np\n",
    "import time\n",
    "\n",
    "\n",
    "data_dir = \"./data\""
   ]
  },
  {
   "cell_type": "code",
   "execution_count": 2,
   "metadata": {},
   "outputs": [],
   "source": [
    "#collator = graphormer_collator_utils.GraphormerDataCollator()\n",
    "#dataset_path =  \"/home/alexander/temp/ZINC/processed/arrow\"\n",
    "dataset_path =  \"data/pcqm4mv2/processed/arrow_processed\"\n",
    "#dataset_path =  \"data/ZINC/processed/arrow_processed\"\n",
    "dataset = load_from_disk(\n",
    "    dataset_path, keep_in_memory=False\n",
    ")\n",
    "if isinstance(dataset, DatasetDict):\n",
    "    dataset = dataset[\"train\"]\n",
    "\n",
    "\n",
    "dataset.cleanup_cache_files()\n",
    "dataset_size = len(dataset)\n",
    "tot_batches = 1000\n",
    "batch_size = 256\n",
    "\n",
    "#dataset = dataset.shuffle()"
   ]
  },
  {
   "cell_type": "code",
   "execution_count": 3,
   "metadata": {},
   "outputs": [
    {
     "name": "stderr",
     "output_type": "stream",
     "text": [
      "  5%|▌         | 1/20 [00:36<11:38, 36.75s/it]"
     ]
    },
    {
     "name": "stdout",
     "output_type": "stream",
     "text": [
      "0: 36.7511351108551s\n"
     ]
    },
    {
     "name": "stderr",
     "output_type": "stream",
     "text": [
      " 10%|█         | 2/20 [01:13<10:59, 36.61s/it]"
     ]
    },
    {
     "name": "stdout",
     "output_type": "stream",
     "text": [
      "1: 36.514524936676025s\n"
     ]
    },
    {
     "name": "stderr",
     "output_type": "stream",
     "text": [
      " 15%|█▌        | 3/20 [01:49<10:20, 36.48s/it]"
     ]
    },
    {
     "name": "stdout",
     "output_type": "stream",
     "text": [
      "2: 36.32154154777527s\n"
     ]
    },
    {
     "name": "stderr",
     "output_type": "stream",
     "text": [
      " 20%|██        | 4/20 [02:26<09:45, 36.57s/it]"
     ]
    },
    {
     "name": "stdout",
     "output_type": "stream",
     "text": [
      "3: 36.7027223110199s\n"
     ]
    },
    {
     "name": "stderr",
     "output_type": "stream",
     "text": [
      " 25%|██▌       | 5/20 [03:01<09:01, 36.13s/it]"
     ]
    },
    {
     "name": "stdout",
     "output_type": "stream",
     "text": [
      "4: 35.33835029602051s\n"
     ]
    },
    {
     "name": "stderr",
     "output_type": "stream",
     "text": [
      " 30%|███       | 6/20 [03:36<08:20, 35.78s/it]"
     ]
    },
    {
     "name": "stdout",
     "output_type": "stream",
     "text": [
      "5: 35.09628176689148s\n"
     ]
    },
    {
     "name": "stderr",
     "output_type": "stream",
     "text": [
      " 35%|███▌      | 7/20 [04:12<07:43, 35.68s/it]"
     ]
    },
    {
     "name": "stdout",
     "output_type": "stream",
     "text": [
      "6: 35.483275413513184s\n"
     ]
    },
    {
     "name": "stderr",
     "output_type": "stream",
     "text": [
      " 40%|████      | 8/20 [04:46<07:04, 35.39s/it]"
     ]
    },
    {
     "name": "stdout",
     "output_type": "stream",
     "text": [
      "7: 34.77539801597595s\n"
     ]
    },
    {
     "name": "stderr",
     "output_type": "stream",
     "text": [
      " 45%|████▌     | 9/20 [05:22<06:28, 35.34s/it]"
     ]
    },
    {
     "name": "stdout",
     "output_type": "stream",
     "text": [
      "8: 35.2163245677948s\n"
     ]
    },
    {
     "name": "stderr",
     "output_type": "stream",
     "text": [
      " 50%|█████     | 10/20 [05:56<05:50, 35.01s/it]"
     ]
    },
    {
     "name": "stdout",
     "output_type": "stream",
     "text": [
      "9: 34.28339767456055s\n"
     ]
    },
    {
     "name": "stderr",
     "output_type": "stream",
     "text": [
      " 55%|█████▌    | 11/20 [06:30<05:11, 34.63s/it]"
     ]
    },
    {
     "name": "stdout",
     "output_type": "stream",
     "text": [
      "10: 33.75396203994751s\n"
     ]
    },
    {
     "name": "stderr",
     "output_type": "stream",
     "text": [
      " 60%|██████    | 12/20 [07:05<04:38, 34.80s/it]"
     ]
    },
    {
     "name": "stdout",
     "output_type": "stream",
     "text": [
      "11: 35.20465445518494s\n"
     ]
    },
    {
     "name": "stderr",
     "output_type": "stream",
     "text": [
      " 65%|██████▌   | 13/20 [07:39<04:02, 34.60s/it]"
     ]
    },
    {
     "name": "stdout",
     "output_type": "stream",
     "text": [
      "12: 34.11661195755005s\n"
     ]
    },
    {
     "name": "stderr",
     "output_type": "stream",
     "text": [
      " 70%|███████   | 14/20 [08:14<03:27, 34.63s/it]"
     ]
    },
    {
     "name": "stdout",
     "output_type": "stream",
     "text": [
      "13: 34.690030097961426s\n"
     ]
    },
    {
     "name": "stderr",
     "output_type": "stream",
     "text": [
      " 75%|███████▌  | 15/20 [08:47<02:51, 34.26s/it]"
     ]
    },
    {
     "name": "stdout",
     "output_type": "stream",
     "text": [
      "14: 33.42061233520508s\n"
     ]
    },
    {
     "name": "stderr",
     "output_type": "stream",
     "text": [
      " 80%|████████  | 16/20 [09:21<02:16, 34.18s/it]"
     ]
    },
    {
     "name": "stdout",
     "output_type": "stream",
     "text": [
      "15: 34.00224471092224s\n"
     ]
    },
    {
     "name": "stderr",
     "output_type": "stream",
     "text": [
      " 85%|████████▌ | 17/20 [09:55<01:42, 34.19s/it]"
     ]
    },
    {
     "name": "stdout",
     "output_type": "stream",
     "text": [
      "16: 34.209267139434814s\n"
     ]
    },
    {
     "name": "stderr",
     "output_type": "stream",
     "text": [
      " 90%|█████████ | 18/20 [10:31<01:09, 34.54s/it]"
     ]
    },
    {
     "name": "stdout",
     "output_type": "stream",
     "text": [
      "17: 35.35255765914917s\n"
     ]
    },
    {
     "name": "stderr",
     "output_type": "stream",
     "text": [
      " 95%|█████████▌| 19/20 [11:05<00:34, 34.45s/it]"
     ]
    },
    {
     "name": "stdout",
     "output_type": "stream",
     "text": [
      "18: 34.23715162277222s\n"
     ]
    },
    {
     "name": "stderr",
     "output_type": "stream",
     "text": [
      "100%|██████████| 20/20 [11:39<00:00, 34.96s/it]"
     ]
    },
    {
     "name": "stdout",
     "output_type": "stream",
     "text": [
      "19: 33.79107189178467s\n",
      "mean: 34.96305577754974\n",
      "std: 0.9924892008660459\n"
     ]
    },
    {
     "name": "stderr",
     "output_type": "stream",
     "text": [
      "\n"
     ]
    }
   ],
   "source": [
    "n_tests = 20\n",
    "times = []\n",
    "\n",
    "for t in tqdm(range(n_tests)):\n",
    "    _start = time.time()\n",
    "    #dataset.set_format(type=\"numpy\", columns=list(dataset.column_names))\n",
    "    for i in np.random.default_rng(t).integers(0, len(dataset), size=batch_size):\n",
    "        dat = dataset[int(i)]\n",
    "        for col in dataset.column_names:\n",
    "            _ = np.array(dat[col])\n",
    "        #np.array(dataset[int(i)][\"input_edges\"])\n",
    "    delta = time.time() - _start\n",
    "    print(f\"{t}: {delta}s\")\n",
    "    times.append(delta)\n",
    "print(f\"mean: {np.mean(times)}\\nstd: {np.std(times)}\")"
   ]
  },
  {
   "cell_type": "code",
   "execution_count": 19,
   "metadata": {},
   "outputs": [],
   "source": [
    "#collator = graphormer_collator_utils.GraphormerDataCollator()\n",
    "#dataset_path =  \"/home/alexander/temp/ZINC/processed/arrow\"\n",
    "dataset_path =  \"data/pcqm4mv2/processed/arrow_processed\"\n",
    "#dataset_path =  \"data/ZINC/processed/arrow_processed\"\n",
    "dataset = load_from_disk(\n",
    "    dataset_path, keep_in_memory=False\n",
    ")\n",
    "if isinstance(dataset, DatasetDict):\n",
    "    dataset = dataset[\"train\"]\n",
    "\n",
    "\n",
    "dataset.cleanup_cache_files()\n",
    "dataset_size = len(dataset)\n",
    "tot_batches = 1000\n",
    "batch_size = 256\n",
    "\n",
    "#dataset = dataset.shuffle()"
   ]
  },
  {
   "cell_type": "code",
   "execution_count": 20,
   "metadata": {},
   "outputs": [
    {
     "name": "stderr",
     "output_type": "stream",
     "text": [
      "  5%|▌         | 1/20 [00:43<13:39, 43.12s/it]"
     ]
    },
    {
     "name": "stdout",
     "output_type": "stream",
     "text": [
      "0: 43.115912437438965s\n"
     ]
    },
    {
     "name": "stderr",
     "output_type": "stream",
     "text": [
      " 10%|█         | 2/20 [01:26<12:58, 43.25s/it]"
     ]
    },
    {
     "name": "stdout",
     "output_type": "stream",
     "text": [
      "1: 43.341533184051514s\n"
     ]
    },
    {
     "name": "stderr",
     "output_type": "stream",
     "text": [
      " 15%|█▌        | 3/20 [02:10<12:20, 43.55s/it]"
     ]
    },
    {
     "name": "stdout",
     "output_type": "stream",
     "text": [
      "2: 43.90436840057373s\n"
     ]
    },
    {
     "name": "stderr",
     "output_type": "stream",
     "text": [
      " 20%|██        | 4/20 [02:52<11:30, 43.17s/it]"
     ]
    },
    {
     "name": "stdout",
     "output_type": "stream",
     "text": [
      "3: 42.59785223007202s\n"
     ]
    },
    {
     "name": "stderr",
     "output_type": "stream",
     "text": [
      " 25%|██▌       | 5/20 [03:35<10:42, 42.85s/it]"
     ]
    },
    {
     "name": "stdout",
     "output_type": "stream",
     "text": [
      "4: 42.28611946105957s\n"
     ]
    },
    {
     "name": "stderr",
     "output_type": "stream",
     "text": [
      " 30%|███       | 6/20 [04:19<10:04, 43.18s/it]"
     ]
    },
    {
     "name": "stdout",
     "output_type": "stream",
     "text": [
      "5: 43.79818558692932s\n"
     ]
    },
    {
     "name": "stderr",
     "output_type": "stream",
     "text": [
      " 35%|███▌      | 7/20 [05:00<09:14, 42.66s/it]"
     ]
    },
    {
     "name": "stdout",
     "output_type": "stream",
     "text": [
      "6: 41.60582113265991s\n"
     ]
    },
    {
     "name": "stderr",
     "output_type": "stream",
     "text": [
      " 40%|████      | 8/20 [05:44<08:36, 43.05s/it]"
     ]
    },
    {
     "name": "stdout",
     "output_type": "stream",
     "text": [
      "7: 43.87878942489624s\n"
     ]
    },
    {
     "name": "stderr",
     "output_type": "stream",
     "text": [
      " 45%|████▌     | 9/20 [06:28<07:55, 43.26s/it]"
     ]
    },
    {
     "name": "stdout",
     "output_type": "stream",
     "text": [
      "8: 43.727745056152344s\n"
     ]
    },
    {
     "name": "stderr",
     "output_type": "stream",
     "text": [
      " 50%|█████     | 10/20 [07:10<07:10, 43.07s/it]"
     ]
    },
    {
     "name": "stdout",
     "output_type": "stream",
     "text": [
      "9: 42.642473459243774s\n"
     ]
    },
    {
     "name": "stderr",
     "output_type": "stream",
     "text": [
      " 55%|█████▌    | 11/20 [07:53<06:26, 43.00s/it]"
     ]
    },
    {
     "name": "stdout",
     "output_type": "stream",
     "text": [
      "10: 42.828749656677246s\n"
     ]
    },
    {
     "name": "stderr",
     "output_type": "stream",
     "text": [
      " 60%|██████    | 12/20 [08:37<05:46, 43.30s/it]"
     ]
    },
    {
     "name": "stdout",
     "output_type": "stream",
     "text": [
      "11: 43.977400064468384s\n"
     ]
    },
    {
     "name": "stderr",
     "output_type": "stream",
     "text": [
      " 65%|██████▌   | 13/20 [09:20<05:02, 43.23s/it]"
     ]
    },
    {
     "name": "stdout",
     "output_type": "stream",
     "text": [
      "12: 43.0893657207489s\n"
     ]
    },
    {
     "name": "stderr",
     "output_type": "stream",
     "text": [
      " 70%|███████   | 14/20 [10:03<04:19, 43.22s/it]"
     ]
    },
    {
     "name": "stdout",
     "output_type": "stream",
     "text": [
      "13: 43.17393231391907s\n"
     ]
    },
    {
     "name": "stderr",
     "output_type": "stream",
     "text": [
      " 75%|███████▌  | 15/20 [10:45<03:33, 42.77s/it]"
     ]
    },
    {
     "name": "stdout",
     "output_type": "stream",
     "text": [
      "14: 41.72798299789429s\n"
     ]
    },
    {
     "name": "stderr",
     "output_type": "stream",
     "text": [
      " 80%|████████  | 16/20 [11:27<02:50, 42.61s/it]"
     ]
    },
    {
     "name": "stdout",
     "output_type": "stream",
     "text": [
      "15: 42.226786851882935s\n"
     ]
    },
    {
     "name": "stderr",
     "output_type": "stream",
     "text": [
      " 85%|████████▌ | 17/20 [12:10<02:07, 42.60s/it]"
     ]
    },
    {
     "name": "stdout",
     "output_type": "stream",
     "text": [
      "16: 42.58611559867859s\n"
     ]
    },
    {
     "name": "stderr",
     "output_type": "stream",
     "text": [
      " 90%|█████████ | 18/20 [12:55<01:26, 43.16s/it]"
     ]
    },
    {
     "name": "stdout",
     "output_type": "stream",
     "text": [
      "17: 44.46834588050842s\n"
     ]
    },
    {
     "name": "stderr",
     "output_type": "stream",
     "text": [
      " 95%|█████████▌| 19/20 [13:37<00:42, 42.90s/it]"
     ]
    },
    {
     "name": "stdout",
     "output_type": "stream",
     "text": [
      "18: 42.28353428840637s\n"
     ]
    },
    {
     "name": "stderr",
     "output_type": "stream",
     "text": [
      "100%|██████████| 20/20 [14:20<00:00, 43.03s/it]"
     ]
    },
    {
     "name": "stdout",
     "output_type": "stream",
     "text": [
      "19: 43.213162899017334s\n",
      "mean: 43.02370883226395\n",
      "std: 0.7662726772420418\n"
     ]
    },
    {
     "name": "stderr",
     "output_type": "stream",
     "text": [
      "\n"
     ]
    }
   ],
   "source": [
    "n_tests = 20\n",
    "times = []\n",
    "\n",
    "for t in tqdm(range(n_tests)):\n",
    "    _start = time.time()\n",
    "    dataset.set_format(type=\"numpy\", columns=list(dataset.column_names))\n",
    "    for i in np.random.default_rng(t).integers(0, len(dataset), size=batch_size):\n",
    "        dat = dataset[int(i)]\n",
    "        #for col in dataset.column_names:\n",
    "        #    _ = np.array(dat[col])\n",
    "        #np.array(dataset[int(i)][\"input_edges\"])\n",
    "    delta = time.time() - _start\n",
    "    print(f\"{t}: {delta}s\")\n",
    "    times.append(delta)\n",
    "print(f\"mean: {np.mean(times)}\\nstd: {np.std(times)}\")"
   ]
  },
  {
   "cell_type": "code",
   "execution_count": 21,
   "metadata": {},
   "outputs": [],
   "source": [
    "#collator = graphormer_collator_utils.GraphormerDataCollator()\n",
    "#dataset_path =  \"/home/alexander/temp/ZINC/processed/arrow\"\n",
    "dataset_path =  \"data/pcqm4mv2/processed/arrow_processed\"\n",
    "#dataset_path =  \"data/ZINC/processed/arrow_processed\"\n",
    "dataset = load_from_disk(\n",
    "    dataset_path, keep_in_memory=False\n",
    ")\n",
    "if isinstance(dataset, DatasetDict):\n",
    "    dataset = dataset[\"train\"]\n",
    "\n",
    "\n",
    "dataset.cleanup_cache_files()\n",
    "dataset_size = len(dataset)\n",
    "tot_batches = 1000\n",
    "batch_size = 256\n",
    "\n",
    "#dataset = dataset.shuffle()"
   ]
  },
  {
   "cell_type": "code",
   "execution_count": 22,
   "metadata": {},
   "outputs": [
    {
     "name": "stderr",
     "output_type": "stream",
     "text": [
      "  5%|▌         | 1/20 [00:33<10:41, 33.78s/it]"
     ]
    },
    {
     "name": "stdout",
     "output_type": "stream",
     "text": [
      "0: 33.784406661987305s\n"
     ]
    },
    {
     "name": "stderr",
     "output_type": "stream",
     "text": [
      " 10%|█         | 2/20 [01:06<10:00, 33.37s/it]"
     ]
    },
    {
     "name": "stdout",
     "output_type": "stream",
     "text": [
      "1: 33.07816815376282s\n"
     ]
    },
    {
     "name": "stderr",
     "output_type": "stream",
     "text": [
      " 15%|█▌        | 3/20 [01:40<09:26, 33.33s/it]"
     ]
    },
    {
     "name": "stdout",
     "output_type": "stream",
     "text": [
      "2: 33.27355170249939s\n"
     ]
    },
    {
     "name": "stderr",
     "output_type": "stream",
     "text": [
      " 20%|██        | 4/20 [02:13<08:50, 33.18s/it]"
     ]
    },
    {
     "name": "stdout",
     "output_type": "stream",
     "text": [
      "3: 32.96257925033569s\n"
     ]
    },
    {
     "name": "stderr",
     "output_type": "stream",
     "text": [
      " 25%|██▌       | 5/20 [02:45<08:11, 32.75s/it]"
     ]
    },
    {
     "name": "stdout",
     "output_type": "stream",
     "text": [
      "4: 31.98241662979126s\n"
     ]
    },
    {
     "name": "stderr",
     "output_type": "stream",
     "text": [
      " 30%|███       | 6/20 [03:18<07:40, 32.92s/it]"
     ]
    },
    {
     "name": "stdout",
     "output_type": "stream",
     "text": [
      "5: 33.23910427093506s\n"
     ]
    },
    {
     "name": "stderr",
     "output_type": "stream",
     "text": [
      " 35%|███▌      | 7/20 [03:50<07:06, 32.78s/it]"
     ]
    },
    {
     "name": "stdout",
     "output_type": "stream",
     "text": [
      "6: 32.48813056945801s\n"
     ]
    },
    {
     "name": "stderr",
     "output_type": "stream",
     "text": [
      " 40%|████      | 8/20 [04:24<06:35, 32.95s/it]"
     ]
    },
    {
     "name": "stdout",
     "output_type": "stream",
     "text": [
      "7: 33.30413889884949s\n"
     ]
    },
    {
     "name": "stderr",
     "output_type": "stream",
     "text": [
      " 45%|████▌     | 9/20 [04:57<06:04, 33.10s/it]"
     ]
    },
    {
     "name": "stdout",
     "output_type": "stream",
     "text": [
      "8: 33.4506733417511s\n"
     ]
    },
    {
     "name": "stderr",
     "output_type": "stream",
     "text": [
      " 50%|█████     | 10/20 [05:29<05:27, 32.76s/it]"
     ]
    },
    {
     "name": "stdout",
     "output_type": "stream",
     "text": [
      "9: 31.992919206619263s\n"
     ]
    },
    {
     "name": "stderr",
     "output_type": "stream",
     "text": [
      " 55%|█████▌    | 11/20 [06:01<04:53, 32.58s/it]"
     ]
    },
    {
     "name": "stdout",
     "output_type": "stream",
     "text": [
      "10: 32.16069197654724s\n"
     ]
    },
    {
     "name": "stderr",
     "output_type": "stream",
     "text": [
      " 60%|██████    | 12/20 [06:35<04:22, 32.84s/it]"
     ]
    },
    {
     "name": "stdout",
     "output_type": "stream",
     "text": [
      "11: 33.42188882827759s\n"
     ]
    },
    {
     "name": "stderr",
     "output_type": "stream",
     "text": [
      " 65%|██████▌   | 13/20 [07:09<03:52, 33.23s/it]"
     ]
    },
    {
     "name": "stdout",
     "output_type": "stream",
     "text": [
      "12: 34.13566565513611s\n"
     ]
    },
    {
     "name": "stderr",
     "output_type": "stream",
     "text": [
      " 70%|███████   | 14/20 [07:42<03:19, 33.32s/it]"
     ]
    },
    {
     "name": "stdout",
     "output_type": "stream",
     "text": [
      "13: 33.54208779335022s\n"
     ]
    },
    {
     "name": "stderr",
     "output_type": "stream",
     "text": [
      " 75%|███████▌  | 15/20 [08:15<02:45, 33.12s/it]"
     ]
    },
    {
     "name": "stdout",
     "output_type": "stream",
     "text": [
      "14: 32.63672089576721s\n"
     ]
    },
    {
     "name": "stderr",
     "output_type": "stream",
     "text": [
      " 80%|████████  | 16/20 [08:49<02:13, 33.31s/it]"
     ]
    },
    {
     "name": "stdout",
     "output_type": "stream",
     "text": [
      "15: 33.74490690231323s\n"
     ]
    },
    {
     "name": "stderr",
     "output_type": "stream",
     "text": [
      " 85%|████████▌ | 17/20 [09:23<01:41, 33.72s/it]"
     ]
    },
    {
     "name": "stdout",
     "output_type": "stream",
     "text": [
      "16: 34.68843626976013s\n"
     ]
    },
    {
     "name": "stderr",
     "output_type": "stream",
     "text": [
      " 90%|█████████ | 18/20 [09:57<01:07, 33.76s/it]"
     ]
    },
    {
     "name": "stdout",
     "output_type": "stream",
     "text": [
      "17: 33.83922982215881s\n"
     ]
    },
    {
     "name": "stderr",
     "output_type": "stream",
     "text": [
      " 95%|█████████▌| 19/20 [10:30<00:33, 33.37s/it]"
     ]
    },
    {
     "name": "stdout",
     "output_type": "stream",
     "text": [
      "18: 32.46438789367676s\n"
     ]
    },
    {
     "name": "stderr",
     "output_type": "stream",
     "text": [
      "100%|██████████| 20/20 [11:03<00:00, 33.17s/it]"
     ]
    },
    {
     "name": "stdout",
     "output_type": "stream",
     "text": [
      "19: 33.21266031265259s\n",
      "mean: 33.17013825178147\n",
      "std: 0.7008309506305681\n"
     ]
    },
    {
     "name": "stderr",
     "output_type": "stream",
     "text": [
      "\n"
     ]
    }
   ],
   "source": [
    "n_tests = 20\n",
    "times = []\n",
    "\n",
    "for t in tqdm(range(n_tests)):\n",
    "    _start = time.time()\n",
    "    #dataset.set_format(type=\"numpy\", columns=list(dataset.column_names))\n",
    "    for i in np.random.default_rng(t).integers(0, len(dataset), size=batch_size):\n",
    "        dat = dataset[int(i)]\n",
    "        #for col in dataset.column_names:\n",
    "        #    _ = np.array(dat[col])\n",
    "        #np.array(dataset[int(i)][\"input_edges\"])\n",
    "    delta = time.time() - _start\n",
    "    print(f\"{t}: {delta}s\")\n",
    "    times.append(delta)\n",
    "print(f\"mean: {np.mean(times)}\\nstd: {np.std(times)}\")"
   ]
  },
  {
   "cell_type": "code",
   "execution_count": 23,
   "metadata": {},
   "outputs": [],
   "source": [
    "#collator = graphormer_collator_utils.GraphormerDataCollator()\n",
    "#dataset_path =  \"/home/alexander/temp/ZINC/processed/arrow\"\n",
    "dataset_path =  \"data/pcqm4mv2/processed/arrow\"\n",
    "#dataset_path =  \"data/ZINC/processed/arrow_processed\"\n",
    "dataset = load_from_disk(\n",
    "    dataset_path, keep_in_memory=False\n",
    ")\n",
    "if isinstance(dataset, DatasetDict):\n",
    "    dataset = dataset[\"train\"]\n",
    "\n",
    "\n",
    "dataset.cleanup_cache_files()\n",
    "dataset_size = len(dataset)\n",
    "tot_batches = 1000\n",
    "batch_size = 256\n",
    "\n",
    "#dataset = dataset.shuffle()"
   ]
  },
  {
   "cell_type": "code",
   "execution_count": 24,
   "metadata": {},
   "outputs": [
    {
     "name": "stderr",
     "output_type": "stream",
     "text": [
      "  5%|▌         | 1/20 [00:11<03:39, 11.56s/it]"
     ]
    },
    {
     "name": "stdout",
     "output_type": "stream",
     "text": [
      "0: 11.555546045303345s\n"
     ]
    },
    {
     "name": "stderr",
     "output_type": "stream",
     "text": [
      " 10%|█         | 2/20 [00:24<03:38, 12.12s/it]"
     ]
    },
    {
     "name": "stdout",
     "output_type": "stream",
     "text": [
      "1: 12.507941722869873s\n"
     ]
    },
    {
     "name": "stderr",
     "output_type": "stream",
     "text": [
      " 15%|█▌        | 3/20 [00:34<03:10, 11.18s/it]"
     ]
    },
    {
     "name": "stdout",
     "output_type": "stream",
     "text": [
      "2: 10.068342447280884s\n"
     ]
    },
    {
     "name": "stderr",
     "output_type": "stream",
     "text": [
      " 20%|██        | 4/20 [00:44<02:52, 10.76s/it]"
     ]
    },
    {
     "name": "stdout",
     "output_type": "stream",
     "text": [
      "3: 10.099027633666992s\n"
     ]
    },
    {
     "name": "stderr",
     "output_type": "stream",
     "text": [
      " 25%|██▌       | 5/20 [00:53<02:34, 10.28s/it]"
     ]
    },
    {
     "name": "stdout",
     "output_type": "stream",
     "text": [
      "4: 9.43305253982544s\n"
     ]
    },
    {
     "name": "stderr",
     "output_type": "stream",
     "text": [
      " 30%|███       | 6/20 [01:03<02:20, 10.02s/it]"
     ]
    },
    {
     "name": "stdout",
     "output_type": "stream",
     "text": [
      "5: 9.52425217628479s\n"
     ]
    },
    {
     "name": "stderr",
     "output_type": "stream",
     "text": [
      " 35%|███▌      | 7/20 [01:12<02:05,  9.65s/it]"
     ]
    },
    {
     "name": "stdout",
     "output_type": "stream",
     "text": [
      "6: 8.882039070129395s\n"
     ]
    },
    {
     "name": "stderr",
     "output_type": "stream",
     "text": [
      " 40%|████      | 8/20 [01:20<01:52,  9.35s/it]"
     ]
    },
    {
     "name": "stdout",
     "output_type": "stream",
     "text": [
      "7: 8.695226907730103s\n"
     ]
    },
    {
     "name": "stderr",
     "output_type": "stream",
     "text": [
      " 45%|████▌     | 9/20 [01:29<01:41,  9.20s/it]"
     ]
    },
    {
     "name": "stdout",
     "output_type": "stream",
     "text": [
      "8: 8.870627164840698s\n"
     ]
    },
    {
     "name": "stderr",
     "output_type": "stream",
     "text": [
      " 50%|█████     | 10/20 [01:38<01:29,  9.00s/it]"
     ]
    },
    {
     "name": "stdout",
     "output_type": "stream",
     "text": [
      "9: 8.53846287727356s\n"
     ]
    },
    {
     "name": "stderr",
     "output_type": "stream",
     "text": [
      " 55%|█████▌    | 11/20 [01:46<01:18,  8.76s/it]"
     ]
    },
    {
     "name": "stdout",
     "output_type": "stream",
     "text": [
      "10: 8.230343103408813s\n"
     ]
    },
    {
     "name": "stderr",
     "output_type": "stream",
     "text": [
      " 60%|██████    | 12/20 [01:54<01:07,  8.46s/it]"
     ]
    },
    {
     "name": "stdout",
     "output_type": "stream",
     "text": [
      "11: 7.7697296142578125s\n"
     ]
    },
    {
     "name": "stderr",
     "output_type": "stream",
     "text": [
      " 65%|██████▌   | 13/20 [02:01<00:57,  8.25s/it]"
     ]
    },
    {
     "name": "stdout",
     "output_type": "stream",
     "text": [
      "12: 7.749158620834351s\n"
     ]
    },
    {
     "name": "stderr",
     "output_type": "stream",
     "text": [
      " 70%|███████   | 14/20 [02:09<00:48,  8.06s/it]"
     ]
    },
    {
     "name": "stdout",
     "output_type": "stream",
     "text": [
      "13: 7.640456438064575s\n"
     ]
    },
    {
     "name": "stderr",
     "output_type": "stream",
     "text": [
      " 75%|███████▌  | 15/20 [02:16<00:39,  7.86s/it]"
     ]
    },
    {
     "name": "stdout",
     "output_type": "stream",
     "text": [
      "14: 7.384346961975098s\n"
     ]
    },
    {
     "name": "stderr",
     "output_type": "stream",
     "text": [
      " 80%|████████  | 16/20 [02:24<00:30,  7.71s/it]"
     ]
    },
    {
     "name": "stdout",
     "output_type": "stream",
     "text": [
      "15: 7.349153518676758s\n"
     ]
    },
    {
     "name": "stderr",
     "output_type": "stream",
     "text": [
      " 85%|████████▌ | 17/20 [02:31<00:22,  7.58s/it]"
     ]
    },
    {
     "name": "stdout",
     "output_type": "stream",
     "text": [
      "16: 7.2723565101623535s\n"
     ]
    },
    {
     "name": "stderr",
     "output_type": "stream",
     "text": [
      " 90%|█████████ | 18/20 [02:39<00:15,  7.67s/it]"
     ]
    },
    {
     "name": "stdout",
     "output_type": "stream",
     "text": [
      "17: 7.878119945526123s\n"
     ]
    },
    {
     "name": "stderr",
     "output_type": "stream",
     "text": [
      " 95%|█████████▌| 19/20 [02:46<00:07,  7.41s/it]"
     ]
    },
    {
     "name": "stdout",
     "output_type": "stream",
     "text": [
      "18: 6.810673236846924s\n"
     ]
    },
    {
     "name": "stderr",
     "output_type": "stream",
     "text": [
      "100%|██████████| 20/20 [02:53<00:00,  8.70s/it]"
     ]
    },
    {
     "name": "stdout",
     "output_type": "stream",
     "text": [
      "19: 7.685551643371582s\n",
      "mean: 8.697220408916474\n",
      "std: 1.4451631437470442\n"
     ]
    },
    {
     "name": "stderr",
     "output_type": "stream",
     "text": [
      "\n"
     ]
    }
   ],
   "source": [
    "n_tests = 20\n",
    "times = []\n",
    "\n",
    "for t in tqdm(range(n_tests)):\n",
    "    _start = time.time()\n",
    "    #dataset.set_format(type=\"numpy\", columns=list(dataset.column_names))\n",
    "    for i in np.random.default_rng(t).integers(0, len(dataset), size=batch_size):\n",
    "        dat = dataset[int(i)]\n",
    "        #for col in dataset.column_names:\n",
    "        #    _ = np.array(dat[col])\n",
    "        #np.array(dataset[int(i)][\"input_edges\"])\n",
    "    delta = time.time() - _start\n",
    "    print(f\"{t}: {delta}s\")\n",
    "    times.append(delta)\n",
    "print(f\"mean: {np.mean(times)}\\nstd: {np.std(times)}\")"
   ]
  },
  {
   "cell_type": "code",
   "execution_count": 4,
   "metadata": {},
   "outputs": [],
   "source": [
    "#collator = graphormer_collator_utils.GraphormerDataCollator()\n",
    "#dataset_path =  \"/home/alexander/temp/ZINC/processed/arrow\"\n",
    "dataset_path =  \"data/pcqm4mv2/processed/arrow\"\n",
    "#dataset_path =  \"data/ZINC/processed/arrow_processed\"\n",
    "dataset = load_from_disk(\n",
    "    dataset_path, keep_in_memory=False\n",
    ")\n",
    "if isinstance(dataset, DatasetDict):\n",
    "    dataset = dataset[\"train\"]\n",
    "\n",
    "\n",
    "dataset.cleanup_cache_files()\n",
    "dataset_size = len(dataset)\n",
    "tot_batches = 1000\n",
    "batch_size = 256\n",
    "\n",
    "#dataset = dataset.shuffle()"
   ]
  },
  {
   "cell_type": "code",
   "execution_count": 5,
   "metadata": {},
   "outputs": [
    {
     "name": "stderr",
     "output_type": "stream",
     "text": [
      "  5%|▌         | 1/20 [00:12<03:52, 12.23s/it]"
     ]
    },
    {
     "name": "stdout",
     "output_type": "stream",
     "text": [
      "0: 12.230051040649414s\n"
     ]
    },
    {
     "name": "stderr",
     "output_type": "stream",
     "text": [
      " 10%|█         | 2/20 [00:24<03:38, 12.12s/it]"
     ]
    },
    {
     "name": "stdout",
     "output_type": "stream",
     "text": [
      "1: 12.050368309020996s\n"
     ]
    },
    {
     "name": "stderr",
     "output_type": "stream",
     "text": [
      " 15%|█▌        | 3/20 [00:35<03:17, 11.63s/it]"
     ]
    },
    {
     "name": "stdout",
     "output_type": "stream",
     "text": [
      "2: 11.03297233581543s\n"
     ]
    },
    {
     "name": "stderr",
     "output_type": "stream",
     "text": [
      " 20%|██        | 4/20 [00:46<03:02, 11.40s/it]"
     ]
    },
    {
     "name": "stdout",
     "output_type": "stream",
     "text": [
      "3: 11.059099435806274s\n"
     ]
    },
    {
     "name": "stderr",
     "output_type": "stream",
     "text": [
      " 25%|██▌       | 5/20 [00:56<02:45, 11.04s/it]"
     ]
    },
    {
     "name": "stdout",
     "output_type": "stream",
     "text": [
      "4: 10.386451959609985s\n"
     ]
    },
    {
     "name": "stderr",
     "output_type": "stream",
     "text": [
      " 30%|███       | 6/20 [01:07<02:33, 10.95s/it]"
     ]
    },
    {
     "name": "stdout",
     "output_type": "stream",
     "text": [
      "5: 10.78745436668396s\n"
     ]
    },
    {
     "name": "stderr",
     "output_type": "stream",
     "text": [
      " 35%|███▌      | 7/20 [01:17<02:18, 10.64s/it]"
     ]
    },
    {
     "name": "stdout",
     "output_type": "stream",
     "text": [
      "6: 9.980642557144165s\n"
     ]
    },
    {
     "name": "stderr",
     "output_type": "stream",
     "text": [
      " 40%|████      | 8/20 [01:27<02:03, 10.33s/it]"
     ]
    },
    {
     "name": "stdout",
     "output_type": "stream",
     "text": [
      "7: 9.660623550415039s\n"
     ]
    },
    {
     "name": "stderr",
     "output_type": "stream",
     "text": [
      " 45%|████▌     | 9/20 [01:37<01:52, 10.23s/it]"
     ]
    },
    {
     "name": "stdout",
     "output_type": "stream",
     "text": [
      "8: 10.032117128372192s\n"
     ]
    },
    {
     "name": "stderr",
     "output_type": "stream",
     "text": [
      " 50%|█████     | 10/20 [01:47<01:41, 10.14s/it]"
     ]
    },
    {
     "name": "stdout",
     "output_type": "stream",
     "text": [
      "9: 9.92201042175293s\n"
     ]
    },
    {
     "name": "stderr",
     "output_type": "stream",
     "text": [
      " 55%|█████▌    | 11/20 [01:56<01:28,  9.85s/it]"
     ]
    },
    {
     "name": "stdout",
     "output_type": "stream",
     "text": [
      "10: 9.209258556365967s\n"
     ]
    },
    {
     "name": "stderr",
     "output_type": "stream",
     "text": [
      " 60%|██████    | 12/20 [02:05<01:16,  9.58s/it]"
     ]
    },
    {
     "name": "stdout",
     "output_type": "stream",
     "text": [
      "11: 8.941131830215454s\n"
     ]
    },
    {
     "name": "stderr",
     "output_type": "stream",
     "text": [
      " 65%|██████▌   | 13/20 [02:14<01:05,  9.39s/it]"
     ]
    },
    {
     "name": "stdout",
     "output_type": "stream",
     "text": [
      "12: 8.971380233764648s\n"
     ]
    },
    {
     "name": "stderr",
     "output_type": "stream",
     "text": [
      " 70%|███████   | 14/20 [02:23<00:55,  9.22s/it]"
     ]
    },
    {
     "name": "stdout",
     "output_type": "stream",
     "text": [
      "13: 8.825045347213745s\n"
     ]
    },
    {
     "name": "stderr",
     "output_type": "stream",
     "text": [
      " 75%|███████▌  | 15/20 [02:31<00:44,  8.97s/it]"
     ]
    },
    {
     "name": "stdout",
     "output_type": "stream",
     "text": [
      "14: 8.381252765655518s\n"
     ]
    },
    {
     "name": "stderr",
     "output_type": "stream",
     "text": [
      " 80%|████████  | 16/20 [02:39<00:35,  8.76s/it]"
     ]
    },
    {
     "name": "stdout",
     "output_type": "stream",
     "text": [
      "15: 8.263519287109375s\n"
     ]
    },
    {
     "name": "stderr",
     "output_type": "stream",
     "text": [
      " 85%|████████▌ | 17/20 [02:47<00:25,  8.53s/it]"
     ]
    },
    {
     "name": "stdout",
     "output_type": "stream",
     "text": [
      "16: 8.001659870147705s\n"
     ]
    },
    {
     "name": "stderr",
     "output_type": "stream",
     "text": [
      " 90%|█████████ | 18/20 [02:56<00:16,  8.46s/it]"
     ]
    },
    {
     "name": "stdout",
     "output_type": "stream",
     "text": [
      "17: 8.30190896987915s\n"
     ]
    },
    {
     "name": "stderr",
     "output_type": "stream",
     "text": [
      " 95%|█████████▌| 19/20 [03:03<00:08,  8.16s/it]"
     ]
    },
    {
     "name": "stdout",
     "output_type": "stream",
     "text": [
      "18: 7.458493232727051s\n"
     ]
    },
    {
     "name": "stderr",
     "output_type": "stream",
     "text": [
      "100%|██████████| 20/20 [03:11<00:00,  9.59s/it]"
     ]
    },
    {
     "name": "stdout",
     "output_type": "stream",
     "text": [
      "19: 8.18565320968628s\n",
      "mean: 9.584054720401763\n",
      "std: 1.3275257506478633\n"
     ]
    },
    {
     "name": "stderr",
     "output_type": "stream",
     "text": [
      "\n"
     ]
    }
   ],
   "source": [
    "n_tests = 20\n",
    "times = []\n",
    "\n",
    "for t in tqdm(range(n_tests)):\n",
    "    _start = time.time()\n",
    "    #dataset.set_format(type=\"numpy\", columns=list(dataset.column_names))\n",
    "    for i in np.random.default_rng(t).integers(0, len(dataset), size=batch_size):\n",
    "        dat = graphormer_collator_utils.preprocess_item(dataset[int(i)])\n",
    "        #for col in dataset.column_names:\n",
    "        #    _ = np.array(dat[col])\n",
    "        #np.array(dataset[int(i)][\"input_edges\"])\n",
    "    delta = time.time() - _start\n",
    "    print(f\"{t}: {delta}s\")\n",
    "    times.append(delta)\n",
    "print(f\"mean: {np.mean(times)}\\nstd: {np.std(times)}\")"
   ]
  },
  {
   "cell_type": "code",
   "execution_count": 18,
   "metadata": {},
   "outputs": [],
   "source": [
    "import random\n",
    "\n",
    "\n",
    "def test_dataset_loading(n_tests, processing_mode, numpy_mode, is_random):\n",
    "    if processing_mode == \"auto\":\n",
    "        dataset_path =  \"data/pcqm4mv2/processed/arrow_processed\"\n",
    "    else:\n",
    "        dataset_path =  \"data/pcqm4mv2/processed/arrow\"\n",
    "    \n",
    "    dataset = load_from_disk(\n",
    "        dataset_path, keep_in_memory=False\n",
    "    )\n",
    "\n",
    "\n",
    "    dataset.cleanup_cache_files()\n",
    "    dataset_size = len(dataset)\n",
    "    batch_size = 256\n",
    "\n",
    "    times = []\n",
    "    for t in tqdm(range(n_tests)):\n",
    "        _start = time.time()\n",
    "        if numpy_mode == \"auto\" and processing_mode == \"auto\":\n",
    "            dataset.set_format(type=\"numpy\", columns=list(dataset.column_names))\n",
    "        if is_random:\n",
    "            indices = np.random.default_rng(t+random.randint(0, 10000000)).integers(0, len(dataset), size=batch_size)\n",
    "        else:\n",
    "            indices = np.arange(batch_size) + t * batch_size\n",
    "        for i in indices:\n",
    "            dat = dataset[int(i)]\n",
    "            if processing_mode == \"manual\":\n",
    "                dat = graphormer_collator_utils.preprocess_item(dat)\n",
    "            \n",
    "            \n",
    "            if numpy_mode == \"manual\" and processing_mode == \"auto\":\n",
    "                for col in dataset.column_names:\n",
    "                    _ = np.array(dat[col])\n",
    "        delta = time.time() - _start\n",
    "        times.append(delta)\n",
    "    \n",
    "    print(f\"Processing Mode: {processing_mode}, Numpy Mode: {numpy_mode}, Is Random: {is_random}|| mean: {np.mean(times)}\\nstd: {np.std(times)}\")\n"
   ]
  },
  {
   "cell_type": "code",
   "execution_count": 19,
   "metadata": {},
   "outputs": [
    {
     "name": "stderr",
     "output_type": "stream",
     "text": [
      "100%|██████████| 20/20 [02:21<00:00,  7.06s/it]\n"
     ]
    },
    {
     "name": "stdout",
     "output_type": "stream",
     "text": [
      "Processing Mode: manual, Numpy Mode: none, Is Random: True|| mean: 7.0535277962684635\n",
      "std: 0.2935554371497729\n"
     ]
    },
    {
     "name": "stderr",
     "output_type": "stream",
     "text": [
      "100%|██████████| 20/20 [00:07<00:00,  2.66it/s]\n"
     ]
    },
    {
     "name": "stdout",
     "output_type": "stream",
     "text": [
      "Processing Mode: manual, Numpy Mode: none, Is Random: False|| mean: 0.3749223589897156\n",
      "std: 0.05129104180186956\n"
     ]
    },
    {
     "name": "stderr",
     "output_type": "stream",
     "text": [
      "100%|██████████| 20/20 [01:51<00:00,  5.60s/it]\n"
     ]
    },
    {
     "name": "stdout",
     "output_type": "stream",
     "text": [
      "Processing Mode: none, Numpy Mode: none, Is Random: True|| mean: 5.593590009212494\n",
      "std: 0.3000068237860228\n"
     ]
    },
    {
     "name": "stderr",
     "output_type": "stream",
     "text": [
      "100%|██████████| 20/20 [00:01<00:00, 15.61it/s]\n"
     ]
    },
    {
     "name": "stdout",
     "output_type": "stream",
     "text": [
      "Processing Mode: none, Numpy Mode: none, Is Random: False|| mean: 0.06378185749053955\n",
      "std: 0.008236428212199465\n"
     ]
    },
    {
     "name": "stderr",
     "output_type": "stream",
     "text": [
      "100%|██████████| 20/20 [11:15<00:00, 33.76s/it]\n"
     ]
    },
    {
     "name": "stdout",
     "output_type": "stream",
     "text": [
      "Processing Mode: auto, Numpy Mode: none, Is Random: True|| mean: 33.76164028644562\n",
      "std: 1.2110147269728646\n"
     ]
    },
    {
     "name": "stderr",
     "output_type": "stream",
     "text": [
      "100%|██████████| 20/20 [00:29<00:00,  1.48s/it]\n"
     ]
    },
    {
     "name": "stdout",
     "output_type": "stream",
     "text": [
      "Processing Mode: auto, Numpy Mode: none, Is Random: False|| mean: 1.4796414256095887\n",
      "std: 0.34962365628101233\n"
     ]
    },
    {
     "name": "stderr",
     "output_type": "stream",
     "text": [
      "100%|██████████| 20/20 [11:14<00:00, 33.74s/it]\n"
     ]
    },
    {
     "name": "stdout",
     "output_type": "stream",
     "text": [
      "Processing Mode: auto, Numpy Mode: manual, Is Random: True|| mean: 33.74004909992218\n",
      "std: 0.6501706318373107\n"
     ]
    },
    {
     "name": "stderr",
     "output_type": "stream",
     "text": [
      "100%|██████████| 20/20 [00:31<00:00,  1.58s/it]\n"
     ]
    },
    {
     "name": "stdout",
     "output_type": "stream",
     "text": [
      "Processing Mode: auto, Numpy Mode: manual, Is Random: False|| mean: 1.5824714183807373\n",
      "std: 0.3879336677848052\n"
     ]
    },
    {
     "name": "stderr",
     "output_type": "stream",
     "text": [
      "100%|██████████| 20/20 [11:10<00:00, 33.52s/it]\n"
     ]
    },
    {
     "name": "stdout",
     "output_type": "stream",
     "text": [
      "Processing Mode: auto, Numpy Mode: none, Is Random: True|| mean: 33.52203933000565\n",
      "std: 0.34314460424118454\n"
     ]
    },
    {
     "name": "stderr",
     "output_type": "stream",
     "text": [
      "100%|██████████| 20/20 [00:28<00:00,  1.42s/it]"
     ]
    },
    {
     "name": "stdout",
     "output_type": "stream",
     "text": [
      "Processing Mode: auto, Numpy Mode: none, Is Random: False|| mean: 1.4200888395309448\n",
      "std: 0.3874574695006745\n"
     ]
    },
    {
     "name": "stderr",
     "output_type": "stream",
     "text": [
      "\n"
     ]
    }
   ],
   "source": [
    "from itertools import product\n",
    "\n",
    "\n",
    "processing_modes = ['manual', 'auto', 'none']\n",
    "numpy_modes = ['manual', 'auto', 'none']\n",
    "is_random_opts = [True, False]\n",
    "\n",
    "test_dataset_loading(n_tests=20, processing_mode=\"manual\", numpy_mode=\"none\", is_random=True)\n",
    "test_dataset_loading(n_tests=20, processing_mode=\"manual\", numpy_mode=\"none\", is_random=False)\n",
    "\n",
    "test_dataset_loading(n_tests=20, processing_mode=\"none\", numpy_mode=\"none\", is_random=True)\n",
    "test_dataset_loading(n_tests=20, processing_mode=\"none\", numpy_mode=\"none\", is_random=False)\n",
    "\n",
    "test_dataset_loading(n_tests=20, processing_mode=\"auto\", numpy_mode=\"none\", is_random=True)\n",
    "test_dataset_loading(n_tests=20, processing_mode=\"auto\", numpy_mode=\"none\", is_random=False)\n",
    "\n",
    "test_dataset_loading(n_tests=20, processing_mode=\"auto\", numpy_mode=\"manual\", is_random=True)\n",
    "test_dataset_loading(n_tests=20, processing_mode=\"auto\", numpy_mode=\"manual\", is_random=False)\n",
    "\n",
    "test_dataset_loading(n_tests=20, processing_mode=\"auto\", numpy_mode=\"auto\", is_random=True)\n",
    "test_dataset_loading(n_tests=20, processing_mode=\"auto\", numpy_mode=\"auto\", is_random=False)"
   ]
  },
  {
   "cell_type": "code",
   "execution_count": 20,
   "metadata": {},
   "outputs": [
    {
     "name": "stderr",
     "output_type": "stream",
     "text": [
      "100%|██████████| 20/20 [13:59<00:00, 41.96s/it]\n"
     ]
    },
    {
     "name": "stdout",
     "output_type": "stream",
     "text": [
      "Processing Mode: auto, Numpy Mode: auto, Is Random: True|| mean: 41.958346736431125\n",
      "std: 0.7774138661610999\n"
     ]
    },
    {
     "name": "stderr",
     "output_type": "stream",
     "text": [
      "100%|██████████| 20/20 [01:02<00:00,  3.13s/it]"
     ]
    },
    {
     "name": "stdout",
     "output_type": "stream",
     "text": [
      "Processing Mode: auto, Numpy Mode: auto, Is Random: False|| mean: 3.1332887768745423\n",
      "std: 0.7021900704240625\n"
     ]
    },
    {
     "name": "stderr",
     "output_type": "stream",
     "text": [
      "\n"
     ]
    }
   ],
   "source": [
    "test_dataset_loading(n_tests=20, processing_mode=\"auto\", numpy_mode=\"auto\", is_random=True)\n",
    "test_dataset_loading(n_tests=20, processing_mode=\"auto\", numpy_mode=\"auto\", is_random=False)"
   ]
  },
  {
   "cell_type": "code",
   "execution_count": null,
   "metadata": {},
   "outputs": [],
   "source": []
  }
 ],
 "metadata": {
  "kernelspec": {
   "display_name": "pgt_hug",
   "language": "python",
   "name": "python3"
  },
  "language_info": {
   "codemirror_mode": {
    "name": "ipython",
    "version": 3
   },
   "file_extension": ".py",
   "mimetype": "text/x-python",
   "name": "python",
   "nbconvert_exporter": "python",
   "pygments_lexer": "ipython3",
   "version": "3.10.11"
  },
  "orig_nbformat": 4
 },
 "nbformat": 4,
 "nbformat_minor": 2
}
