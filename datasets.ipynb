{
 "cells": [
  {
   "cell_type": "code",
   "execution_count": 1,
   "metadata": {},
   "outputs": [
    {
     "name": "stderr",
     "output_type": "stream",
     "text": [
      "DGL backend not selected or invalid.  Assuming PyTorch for now.\n"
     ]
    },
    {
     "name": "stdout",
     "output_type": "stream",
     "text": [
      "Setting the default backend to \"pytorch\". You can change it in the ~/.dgl/config.json file or export the DGLBACKEND environment variable.  Valid options are: pytorch, mxnet, tensorflow (all lowercase)\n"
     ]
    }
   ],
   "source": [
    "import torch_geometric as pyg\n",
    "import numpy as np\n",
    "from ogb.lsc import PCQM4Mv2Dataset\n",
    "root_dir = \"data\""
   ]
  },
  {
   "cell_type": "code",
   "execution_count": 2,
   "metadata": {},
   "outputs": [],
   "source": [
    "def summarize_data(data, print_classes = True):\n",
    "    print(f\"n classes: {data.num_classes}\")\n",
    "    data.print_summary()\n",
    "\n",
    "    if print_classes:\n",
    "        true_array = np.zeros(data.num_classes)\n",
    "        num_array = np.zeros(data.num_classes)\n",
    "\n",
    "\n",
    "        for i in data:\n",
    "            y = i.y.numpy()\n",
    "            nans = np.isnan(y)\n",
    "            true_array = true_array + np.nan_to_num(y)\n",
    "            num_array = num_array + np.invert(nans)\n",
    "\n",
    "\n",
    "        for i in range(data.num_classes):\n",
    "            print(f\"{i:>3}: {int(true_array[0,i])} of {int(num_array[0,i])}. {true_array[0,i]/num_array[0,i]:>4f} are true. \"\\\n",
    "                f\"{num_array[0,i]/len(data):.4f} of the data have this label.\")"
   ]
  },
  {
   "attachments": {},
   "cell_type": "markdown",
   "metadata": {},
   "source": [
    "# Tox21"
   ]
  },
  {
   "cell_type": "code",
   "execution_count": 3,
   "metadata": {},
   "outputs": [],
   "source": [
    "data = pyg.datasets.MoleculeNet(root_dir, \"Tox21\")"
   ]
  },
  {
   "cell_type": "code",
   "execution_count": 4,
   "metadata": {},
   "outputs": [
    {
     "name": "stdout",
     "output_type": "stream",
     "text": [
      "n classes: 12\n",
      "MoleculeNet (#graphs=7831):\n",
      "+------------+----------+----------+\n",
      "|            |   #nodes |   #edges |\n",
      "|------------+----------+----------|\n",
      "| mean       |     18.6 |     38.6 |\n",
      "| std        |     11.3 |     25   |\n",
      "| min        |      1   |      0   |\n",
      "| quantile25 |     11   |     22   |\n",
      "| median     |     16   |     34   |\n",
      "| quantile75 |     23   |     50   |\n",
      "| max        |    132   |    290   |\n",
      "+------------+----------+----------+\n",
      "  0: 309 of 7265. 0.042533 are true. 0.9277 of the data have this label.\n",
      "  1: 237 of 6758. 0.035070 are true. 0.8630 of the data have this label.\n",
      "  2: 768 of 6549. 0.117270 are true. 0.8363 of the data have this label.\n",
      "  3: 300 of 5821. 0.051538 are true. 0.7433 of the data have this label.\n",
      "  4: 793 of 6193. 0.128048 are true. 0.7908 of the data have this label.\n",
      "  5: 350 of 6955. 0.050324 are true. 0.8881 of the data have this label.\n",
      "  6: 186 of 6450. 0.028837 are true. 0.8236 of the data have this label.\n",
      "  7: 942 of 5832. 0.161523 are true. 0.7447 of the data have this label.\n",
      "  8: 264 of 7072. 0.037330 are true. 0.9031 of the data have this label.\n",
      "  9: 372 of 6467. 0.057523 are true. 0.8258 of the data have this label.\n",
      " 10: 918 of 5810. 0.158003 are true. 0.7419 of the data have this label.\n",
      " 11: 423 of 6774. 0.062445 are true. 0.8650 of the data have this label.\n"
     ]
    }
   ],
   "source": [
    "summarize_data(data)"
   ]
  },
  {
   "attachments": {},
   "cell_type": "markdown",
   "metadata": {},
   "source": [
    "# PCBA\n",
    "\n",
    "Takes quite a bit of RAM"
   ]
  },
  {
   "cell_type": "code",
   "execution_count": 6,
   "metadata": {},
   "outputs": [],
   "source": [
    "data = pyg.datasets.MoleculeNet(root_dir, \"PCBA\")"
   ]
  },
  {
   "cell_type": "code",
   "execution_count": 7,
   "metadata": {},
   "outputs": [
    {
     "name": "stdout",
     "output_type": "stream",
     "text": [
      "n classes: 128\n"
     ]
    },
    {
     "name": "stderr",
     "output_type": "stream",
     "text": [
      "100%|██████████| 437929/437929 [00:44<00:00, 9736.92it/s] \n"
     ]
    },
    {
     "name": "stdout",
     "output_type": "stream",
     "text": [
      "MoleculeNet (#graphs=437929):\n",
      "+------------+----------+----------+\n",
      "|            |   #nodes |   #edges |\n",
      "|------------+----------+----------|\n",
      "| mean       |       26 |     56.2 |\n",
      "| std        |        7 |     15.4 |\n",
      "| min        |        1 |      0   |\n",
      "| quantile25 |       22 |     46   |\n",
      "| median     |       26 |     56   |\n",
      "| quantile75 |       30 |     64   |\n",
      "| max        |      332 |    672   |\n",
      "+------------+----------+----------+\n",
      "  0: 15957 of 161024. 0.099097 are true. 0.3677 of the data have this label.\n",
      "  1: 561 of 197266. 0.002844 are true. 0.4505 of the data have this label.\n",
      "  2: 177 of 148863. 0.001189 are true. 0.3399 of the data have this label.\n",
      "  3: 529 of 124752. 0.004240 are true. 0.2849 of the data have this label.\n",
      "  4: 720 of 201906. 0.003566 are true. 0.4610 of the data have this label.\n",
      "  5: 5813 of 195258. 0.029771 are true. 0.4459 of the data have this label.\n",
      "  6: 5652 of 223674. 0.025269 are true. 0.5108 of the data have this label.\n",
      "  7: 2299 of 207836. 0.011062 are true. 0.4746 of the data have this label.\n",
      "  8: 1023 of 251538. 0.004067 are true. 0.5744 of the data have this label.\n",
      "  9: 162 of 274227. 0.000591 are true. 0.6262 of the data have this label.\n",
      " 10: 287 of 217971. 0.001317 are true. 0.4977 of the data have this label.\n",
      " 11: 779 of 271903. 0.002865 are true. 0.6209 of the data have this label.\n",
      " 12: 890 of 259546. 0.003429 are true. 0.5927 of the data have this label.\n",
      " 13: 152 of 261753. 0.000581 are true. 0.5977 of the data have this label.\n",
      " 14: 2358 of 203754. 0.011573 are true. 0.4653 of the data have this label.\n",
      " 15: 1082 of 290345. 0.003727 are true. 0.6630 of the data have this label.\n",
      " 16: 1158 of 292656. 0.003957 are true. 0.6683 of the data have this label.\n",
      " 17: 285 of 309226. 0.000922 are true. 0.7061 of the data have this label.\n",
      " 18: 3446 of 191694. 0.017977 are true. 0.4377 of the data have this label.\n",
      " 19: 712 of 183826. 0.003873 are true. 0.4198 of the data have this label.\n",
      " 20: 1066 of 260497. 0.004092 are true. 0.5948 of the data have this label.\n",
      " 21: 2001 of 274208. 0.007297 are true. 0.6261 of the data have this label.\n",
      " 22: 1103 of 334541. 0.003297 are true. 0.7639 of the data have this label.\n",
      " 23: 650 of 345475. 0.001881 are true. 0.7889 of the data have this label.\n",
      " 24: 10538 of 277722. 0.037944 are true. 0.6342 of the data have this label.\n",
      " 25: 1194 of 230756. 0.005174 are true. 0.5269 of the data have this label.\n",
      " 26: 16645 of 269672. 0.061723 are true. 0.6158 of the data have this label.\n",
      " 27: 104 of 284565. 0.000365 are true. 0.6498 of the data have this label.\n",
      " 28: 99 of 248541. 0.000398 are true. 0.5675 of the data have this label.\n",
      " 29: 1080 of 357874. 0.003018 are true. 0.8172 of the data have this label.\n",
      " 30: 1558 of 70166. 0.022204 are true. 0.1602 of the data have this label.\n",
      " 31: 40 of 328625. 0.000122 are true. 0.7504 of the data have this label.\n",
      " 32: 253 of 314102. 0.000805 are true. 0.7172 of the data have this label.\n",
      " 33: 936 of 338073. 0.002769 are true. 0.7720 of the data have this label.\n",
      " 34: 144 of 309537. 0.000465 are true. 0.7068 of the data have this label.\n",
      " 35: 9125 of 309587. 0.029475 are true. 0.7069 of the data have this label.\n",
      " 36: 7568 of 310927. 0.024340 are true. 0.7100 of the data have this label.\n",
      " 37: 4481 of 316619. 0.014153 are true. 0.7230 of the data have this label.\n",
      " 38: 1725 of 326840. 0.005278 are true. 0.7463 of the data have this label.\n",
      " 39: 616 of 319532. 0.001928 are true. 0.7296 of the data have this label.\n",
      " 40: 601 of 322604. 0.001863 are true. 0.7367 of the data have this label.\n",
      " 41: 1475 of 218072. 0.006764 are true. 0.4980 of the data have this label.\n",
      " 42: 10671 of 341667. 0.031232 are true. 0.7802 of the data have this label.\n",
      " 43: 553 of 325584. 0.001698 are true. 0.7435 of the data have this label.\n",
      " 44: 76 of 328789. 0.000231 are true. 0.7508 of the data have this label.\n",
      " 45: 342 of 41623. 0.008217 are true. 0.0950 of the data have this label.\n",
      " 46: 760 of 370730. 0.002050 are true. 0.8466 of the data have this label.\n",
      " 47: 30456 of 296573. 0.102693 are true. 0.6772 of the data have this label.\n",
      " 48: 15619 of 325505. 0.047984 are true. 0.7433 of the data have this label.\n",
      " 49: 16779 of 355176. 0.047241 are true. 0.8110 of the data have this label.\n",
      " 50: 7398 of 290280. 0.025486 are true. 0.6628 of the data have this label.\n",
      " 51: 4165 of 310402. 0.013418 are true. 0.7088 of the data have this label.\n",
      " 52: 7637 of 242816. 0.031452 are true. 0.5545 of the data have this label.\n",
      " 53: 201 of 302235. 0.000665 are true. 0.6901 of the data have this label.\n",
      " 54: 98 of 324136. 0.000302 are true. 0.7402 of the data have this label.\n",
      " 55: 97 of 371756. 0.000261 are true. 0.8489 of the data have this label.\n",
      " 56: 3494 of 380152. 0.009191 are true. 0.8681 of the data have this label.\n",
      " 57: 34 of 360755. 0.000094 are true. 0.8238 of the data have this label.\n",
      " 58: 4450 of 205021. 0.021705 are true. 0.4682 of the data have this label.\n",
      " 59: 2124 of 369441. 0.005749 are true. 0.8436 of the data have this label.\n",
      " 60: 25041 of 326403. 0.076718 are true. 0.7453 of the data have this label.\n",
      " 61: 3935 of 371332. 0.010597 are true. 0.8479 of the data have this label.\n",
      " 62: 50 of 384664. 0.000130 are true. 0.8784 of the data have this label.\n",
      " 63: 1973 of 389222. 0.005069 are true. 0.8888 of the data have this label.\n",
      " 64: 3927 of 357595. 0.010982 are true. 0.8166 of the data have this label.\n",
      " 65: 4700 of 374201. 0.012560 are true. 0.8545 of the data have this label.\n",
      " 66: 1278 of 377955. 0.003381 are true. 0.8631 of the data have this label.\n",
      " 67: 4923 of 352333. 0.013973 are true. 0.8045 of the data have this label.\n",
      " 68: 364 of 385147. 0.000945 are true. 0.8795 of the data have this label.\n",
      " 69: 165 of 378525. 0.000436 are true. 0.8644 of the data have this label.\n",
      " 70: 310 of 393410. 0.000788 are true. 0.8983 of the data have this label.\n",
      " 71: 763 of 372361. 0.002049 are true. 0.8503 of the data have this label.\n",
      " 72: 71 of 411867. 0.000172 are true. 0.9405 of the data have this label.\n",
      " 73: 827 of 397583. 0.002080 are true. 0.9079 of the data have this label.\n",
      " 74: 1242 of 395204. 0.003143 are true. 0.9024 of the data have this label.\n",
      " 75: 486 of 399939. 0.001215 are true. 0.9133 of the data have this label.\n",
      " 76: 3969 of 365768. 0.010851 are true. 0.8352 of the data have this label.\n",
      " 77: 99 of 364400. 0.000272 are true. 0.8321 of the data have this label.\n",
      " 78: 423 of 302477. 0.001398 are true. 0.6907 of the data have this label.\n",
      " 79: 1354 of 323771. 0.004182 are true. 0.7393 of the data have this label.\n",
      " 80: 222 of 331810. 0.000669 are true. 0.7577 of the data have this label.\n",
      " 81: 9829 of 291627. 0.033704 are true. 0.6659 of the data have this label.\n",
      " 82: 6200 of 307479. 0.020164 are true. 0.7021 of the data have this label.\n",
      " 83: 6407 of 325301. 0.019696 are true. 0.7428 of the data have this label.\n",
      " 84: 3745 of 346389. 0.010812 are true. 0.7910 of the data have this label.\n",
      " 85: 744 of 354065. 0.002101 are true. 0.8085 of the data have this label.\n",
      " 86: 1662 of 357026. 0.004655 are true. 0.8153 of the data have this label.\n",
      " 87: 6423 of 325680. 0.019722 are true. 0.7437 of the data have this label.\n",
      " 88: 238 of 363688. 0.000654 are true. 0.8305 of the data have this label.\n",
      " 89: 7133 of 375219. 0.019010 are true. 0.8568 of the data have this label.\n",
      " 90: 4056 of 321802. 0.012604 are true. 0.7348 of the data have this label.\n",
      " 91: 498 of 362050. 0.001376 are true. 0.8267 of the data have this label.\n",
      " 92: 5906 of 336488. 0.017552 are true. 0.7684 of the data have this label.\n",
      " 93: 62800 of 302175. 0.207827 are true. 0.6900 of the data have this label.\n",
      " 94: 48853 of 308968. 0.158117 are true. 0.7055 of the data have this label.\n",
      " 95: 10152 of 349892. 0.029015 are true. 0.7990 of the data have this label.\n",
      " 96: 873 of 12368. 0.070585 are true. 0.0282 of the data have this label.\n",
      " 97: 724 of 356295. 0.002032 are true. 0.8136 of the data have this label.\n",
      " 98: 1259 of 342246. 0.003679 are true. 0.7815 of the data have this label.\n",
      " 99: 3243 of 338637. 0.009577 are true. 0.7733 of the data have this label.\n",
      "100: 1909 of 283013. 0.006745 are true. 0.6463 of the data have this label.\n",
      "101: 1492 of 305811. 0.004879 are true. 0.6983 of the data have this label.\n",
      "102: 265 of 362810. 0.000730 are true. 0.8285 of the data have this label.\n",
      "103: 660 of 356712. 0.001850 are true. 0.8145 of the data have this label.\n",
      "104: 514 of 352684. 0.001457 are true. 0.8053 of the data have this label.\n",
      "105: 288 of 362820. 0.000794 are true. 0.8285 of the data have this label.\n",
      "106: 897 of 370100. 0.002424 are true. 0.8451 of the data have this label.\n",
      "107: 305 of 398390. 0.000766 are true. 0.9097 of the data have this label.\n",
      "108: 29 of 73295. 0.000396 are true. 0.1674 of the data have this label.\n",
      "109: 583 of 103788. 0.005617 are true. 0.2370 of the data have this label.\n",
      "110: 1217 of 7864. 0.154756 are true. 0.0180 of the data have this label.\n",
      "111: 3328 of 10047. 0.331243 are true. 0.0229 of the data have this label.\n",
      "112: 159 of 12336. 0.012889 are true. 0.0282 of the data have this label.\n",
      "113: 1013 of 68963. 0.014689 are true. 0.1575 of the data have this label.\n",
      "114: 1479 of 7623. 0.194018 are true. 0.0174 of the data have this label.\n",
      "115: 1807 of 7958. 0.227067 are true. 0.0182 of the data have this label.\n",
      "116: 1842 of 118434. 0.015553 are true. 0.2704 of the data have this label.\n",
      "117: 338 of 52771. 0.006405 are true. 0.1205 of the data have this label.\n",
      "118: 528 of 50944. 0.010364 are true. 0.1163 of the data have this label.\n",
      "119: 443 of 56591. 0.007828 are true. 0.1292 of the data have this label.\n",
      "120: 217 of 7563. 0.028692 are true. 0.0173 of the data have this label.\n",
      "121: 424 of 7769. 0.054576 are true. 0.0177 of the data have this label.\n",
      "122: 1128 of 119430. 0.009445 are true. 0.2727 of the data have this label.\n",
      "123: 38 of 63823. 0.000595 are true. 0.1457 of the data have this label.\n",
      "124: 350 of 56407. 0.006205 are true. 0.1288 of the data have this label.\n",
      "125: 60 of 58162. 0.001032 are true. 0.1328 of the data have this label.\n",
      "126: 1773 of 62227. 0.028492 are true. 0.1421 of the data have this label.\n",
      "127: 686 of 65279. 0.010509 are true. 0.1491 of the data have this label.\n"
     ]
    }
   ],
   "source": [
    "summarize_data(data)"
   ]
  },
  {
   "attachments": {},
   "cell_type": "markdown",
   "metadata": {},
   "source": [
    "# QM9"
   ]
  },
  {
   "cell_type": "code",
   "execution_count": 4,
   "metadata": {},
   "outputs": [
    {
     "name": "stderr",
     "output_type": "stream",
     "text": [
      "Downloading https://deepchemdata.s3-us-west-1.amazonaws.com/datasets/molnet_publish/qm9.zip\n",
      "Extracting dataqm9/raw/qm9.zip\n",
      "Downloading https://ndownloader.figshare.com/files/3195404\n",
      "Processing...\n",
      "100%|██████████| 133885/133885 [01:16<00:00, 1759.99it/s]\n",
      "Done!\n"
     ]
    }
   ],
   "source": [
    "data = pyg.datasets.QM9(root_dir+\"/qm9\")\n"
   ]
  },
  {
   "cell_type": "code",
   "execution_count": 5,
   "metadata": {},
   "outputs": [
    {
     "name": "stdout",
     "output_type": "stream",
     "text": [
      "n classes: 19\n"
     ]
    },
    {
     "name": "stderr",
     "output_type": "stream",
     "text": [
      "100%|██████████| 130831/130831 [00:18<00:00, 6970.26it/s]\n"
     ]
    },
    {
     "name": "stdout",
     "output_type": "stream",
     "text": [
      "QM9 (#graphs=130831):\n",
      "+------------+----------+----------+\n",
      "|            |   #nodes |   #edges |\n",
      "|------------+----------+----------|\n",
      "| mean       |     18   |     37.3 |\n",
      "| std        |      2.9 |      6.3 |\n",
      "| min        |      3   |      4   |\n",
      "| quantile25 |     16   |     34   |\n",
      "| median     |     18   |     38   |\n",
      "| quantile75 |     20   |     42   |\n",
      "| max        |     29   |     56   |\n",
      "+------------+----------+----------+\n",
      "  0: 349705 of 130831. 2.672953 are true. 1.0000 of the data have this label.\n",
      "  1: 9849112 of 130831. 75.281185 are true. 1.0000 of the data have this label.\n",
      "  2: -855170 of 130831. -6.536453 are true. 1.0000 of the data have this label.\n",
      "  3: 42133 of 130831. 0.322044 are true. 1.0000 of the data have this label.\n",
      "  4: 897303 of 130831. 6.858492 are true. 1.0000 of the data have this label.\n",
      "  5: 155611783 of 130831. 1189.410643 are true. 1.0000 of the data have this label.\n",
      "  6: 530773 of 130831. 4.056937 are true. 1.0000 of the data have this label.\n",
      "  7: -1462555362 of 130831. -11178.966471 are true. 1.0000 of the data have this label.\n",
      "  8: -1462525204 of 130831. -11178.735959 are true. 1.0000 of the data have this label.\n",
      "  9: -1462521843 of 130831. -11178.710268 are true. 1.0000 of the data have this label.\n",
      " 10: -1462674283 of 130831. -11179.875439 are true. 1.0000 of the data have this label.\n",
      " 11: 4136923 of 130831. 31.620364 are true. 1.0000 of the data have this label.\n",
      " 12: -9958333 of 130831. -76.116009 are true. 1.0000 of the data have this label.\n",
      " 13: -10019101 of 130831. -76.580487 are true. 1.0000 of the data have this label.\n",
      " 14: -10076375 of 130831. -77.018256 are true. 1.0000 of the data have this label.\n",
      " 15: -9267630 of 130831. -70.836656 are true. 1.0000 of the data have this label.\n",
      " 16: 1303864 of 130831. 9.966023 are true. 1.0000 of the data have this label.\n",
      " 17: 184043 of 130831. 1.406728 are true. 1.0000 of the data have this label.\n",
      " 18: 147498 of 130831. 1.127399 are true. 1.0000 of the data have this label.\n"
     ]
    }
   ],
   "source": [
    "summarize_data(data)"
   ]
  },
  {
   "attachments": {},
   "cell_type": "markdown",
   "metadata": {},
   "source": [
    "# ZINC"
   ]
  },
  {
   "cell_type": "code",
   "execution_count": 4,
   "metadata": {},
   "outputs": [
    {
     "name": "stderr",
     "output_type": "stream",
     "text": [
      "Downloading https://www.dropbox.com/s/feo9qle74kg48gy/molecules.zip?dl=1\n",
      "Extracting data/ZINC/molecules.zip\n",
      "Downloading https://raw.githubusercontent.com/graphdeeplearning/benchmarking-gnns/master/data/molecules/train.index\n",
      "Downloading https://raw.githubusercontent.com/graphdeeplearning/benchmarking-gnns/master/data/molecules/val.index\n",
      "Downloading https://raw.githubusercontent.com/graphdeeplearning/benchmarking-gnns/master/data/molecules/test.index\n",
      "Processing...\n",
      "Processing train dataset: 100%|██████████| 220011/220011 [00:15<00:00, 13755.51it/s]\n",
      "Processing val dataset: 100%|██████████| 24445/24445 [00:02<00:00, 10434.23it/s]\n",
      "Processing test dataset: 100%|██████████| 5000/5000 [00:00<00:00, 12238.82it/s]\n",
      "Done!\n"
     ]
    }
   ],
   "source": [
    "data = pyg.datasets.ZINC(root_dir+\"/ZINC\")"
   ]
  },
  {
   "cell_type": "code",
   "execution_count": 5,
   "metadata": {},
   "outputs": [
    {
     "name": "stdout",
     "output_type": "stream",
     "text": [
      "n classes: 218362\n"
     ]
    },
    {
     "name": "stderr",
     "output_type": "stream",
     "text": [
      "100%|██████████| 220011/220011 [00:21<00:00, 10339.91it/s]\n"
     ]
    },
    {
     "name": "stdout",
     "output_type": "stream",
     "text": [
      "ZINC (#graphs=220011):\n",
      "+------------+----------+----------+\n",
      "|            |   #nodes |   #edges |\n",
      "|------------+----------+----------|\n",
      "| mean       |     23.2 |     49.8 |\n",
      "| std        |      4.5 |     10.6 |\n",
      "| min        |      6   |     10   |\n",
      "| quantile25 |     20   |     42   |\n",
      "| median     |     23   |     50   |\n",
      "| quantile75 |     26   |     56   |\n",
      "| max        |     38   |     88   |\n",
      "+------------+----------+----------+\n"
     ]
    },
    {
     "ename": "KeyboardInterrupt",
     "evalue": "",
     "output_type": "error",
     "traceback": [
      "\u001b[0;31m---------------------------------------------------------------------------\u001b[0m",
      "\u001b[0;31mKeyboardInterrupt\u001b[0m                         Traceback (most recent call last)",
      "Cell \u001b[0;32mIn[5], line 1\u001b[0m\n\u001b[0;32m----> 1\u001b[0m summarize_data(data)\n",
      "Cell \u001b[0;32mIn[3], line 12\u001b[0m, in \u001b[0;36msummarize_data\u001b[0;34m(data)\u001b[0m\n\u001b[1;32m     10\u001b[0m     nans \u001b[39m=\u001b[39m np\u001b[39m.\u001b[39misnan(y)\n\u001b[1;32m     11\u001b[0m     true_array \u001b[39m=\u001b[39m true_array \u001b[39m+\u001b[39m np\u001b[39m.\u001b[39mnan_to_num(y)\n\u001b[0;32m---> 12\u001b[0m     num_array \u001b[39m=\u001b[39m num_array \u001b[39m+\u001b[39m np\u001b[39m.\u001b[39minvert(nans)\n\u001b[1;32m     15\u001b[0m \u001b[39mfor\u001b[39;00m i \u001b[39min\u001b[39;00m \u001b[39mrange\u001b[39m(data\u001b[39m.\u001b[39mnum_classes):\n\u001b[1;32m     16\u001b[0m     \u001b[39mprint\u001b[39m(\u001b[39mf\u001b[39m\u001b[39m\"\u001b[39m\u001b[39m{\u001b[39;00mi\u001b[39m:\u001b[39;00m\u001b[39m>3\u001b[39m\u001b[39m}\u001b[39;00m\u001b[39m: \u001b[39m\u001b[39m{\u001b[39;00m\u001b[39mint\u001b[39m(true_array[\u001b[39m0\u001b[39m,i])\u001b[39m}\u001b[39;00m\u001b[39m of \u001b[39m\u001b[39m{\u001b[39;00m\u001b[39mint\u001b[39m(num_array[\u001b[39m0\u001b[39m,i])\u001b[39m}\u001b[39;00m\u001b[39m. \u001b[39m\u001b[39m{\u001b[39;00mtrue_array[\u001b[39m0\u001b[39m,i]\u001b[39m/\u001b[39mnum_array[\u001b[39m0\u001b[39m,i]\u001b[39m:\u001b[39;00m\u001b[39m>4f\u001b[39m\u001b[39m}\u001b[39;00m\u001b[39m are true. \u001b[39m\u001b[39m\"\u001b[39m\\\n\u001b[1;32m     17\u001b[0m         \u001b[39mf\u001b[39m\u001b[39m\"\u001b[39m\u001b[39m{\u001b[39;00mnum_array[\u001b[39m0\u001b[39m,i]\u001b[39m/\u001b[39m\u001b[39mlen\u001b[39m(data)\u001b[39m:\u001b[39;00m\u001b[39m.4f\u001b[39m\u001b[39m}\u001b[39;00m\u001b[39m of the data have this label.\u001b[39m\u001b[39m\"\u001b[39m)\n",
      "\u001b[0;31mKeyboardInterrupt\u001b[0m: "
     ]
    }
   ],
   "source": [
    "summarize_data(data, print_classes=False)"
   ]
  },
  {
   "attachments": {},
   "cell_type": "markdown",
   "metadata": {},
   "source": [
    "# pcqm4m-v2\n",
    "\n",
    "```\n",
    "wget http://ogb-data.stanford.edu/data/lsc/pcqm4m-v2-train.sdf.tar.gz\n",
    "md5sum pcqm4m-v2-train.sdf.tar.gz # fd72bce606e7ddf36c2a832badeec6ab\n",
    "tar -xf pcqm4m-v2-train.sdf.tar.gz # extracted pcqm4m-v2-train.sdf\n",
    "```"
   ]
  },
  {
   "cell_type": "code",
   "execution_count": 1,
   "metadata": {},
   "outputs": [],
   "source": [
    "from rdkit import Chem\n",
    "\n",
    "suppl = Chem.SDMolSupplier('data/pcqm4mv2__/raw/pcqm4m-v2-train.sdf')"
   ]
  },
  {
   "cell_type": "code",
   "execution_count": 18,
   "metadata": {},
   "outputs": [
    {
     "data": {
      "text/plain": [
       "array([[ 4.9919, -5.2514,  4.0126],\n",
       "       [ 6.1051, -3.0257,  3.52  ],\n",
       "       [ 4.5521, -3.9001,  1.914 ],\n",
       "       [ 6.3372, -1.9217,  2.7029],\n",
       "       [ 4.7751, -2.7953,  1.0929],\n",
       "       [ 2.8586,  1.2252, -1.7853],\n",
       "       [ 2.8118,  0.8707, -3.0956],\n",
       "       [ 5.789 , -0.835 , -0.8455],\n",
       "       [ 4.6658, -0.476 , -3.0127],\n",
       "       [ 5.215 , -4.0391,  3.1392],\n",
       "       [ 5.677 , -1.7955,  1.4745],\n",
       "       [ 4.8499, -0.2104, -1.5946],\n",
       "       [ 5.9121, -0.5519,  0.613 ],\n",
       "       [ 3.9134,  0.7241, -0.934 ],\n",
       "       [ 5.0405,  0.6404,  1.1008],\n",
       "       [ 3.716 ,  0.0207, -3.7371],\n",
       "       [ 3.9796,  1.1019,  0.3172],\n",
       "       [ 5.2985,  1.1457,  2.1772]])"
      ]
     },
     "execution_count": 18,
     "metadata": {},
     "output_type": "execute_result"
    }
   ],
   "source": [
    "mol = suppl[0]\n",
    "mol.GetConformer().GetPositions()"
   ]
  },
  {
   "cell_type": "code",
   "execution_count": null,
   "metadata": {},
   "outputs": [],
   "source": []
  }
 ],
 "metadata": {
  "kernelspec": {
   "display_name": "pgt",
   "language": "python",
   "name": "python3"
  },
  "language_info": {
   "codemirror_mode": {
    "name": "ipython",
    "version": 3
   },
   "file_extension": ".py",
   "mimetype": "text/x-python",
   "name": "python",
   "nbconvert_exporter": "python",
   "pygments_lexer": "ipython3",
   "version": "3.10.11"
  },
  "orig_nbformat": 4
 },
 "nbformat": 4,
 "nbformat_minor": 2
}
